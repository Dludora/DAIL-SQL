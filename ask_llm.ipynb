{
 "cells": [
  {
   "cell_type": "code",
   "execution_count": null,
   "id": "2e944a4b-c8f1-4317-8662-d7c488ead7be",
   "metadata": {},
   "outputs": [],
   "source": [
    "%load_ext autoreload\n",
    "%autoreload 1\n",
    "%aimport utils.utils\n",
    "    \n",
    "import argparse\n",
    "import os\n",
    "import json\n",
    "\n",
    "from tqdm import tqdm"
   ]
  },
  {
   "cell_type": "code",
   "execution_count": null,
   "id": "3a9e53d4",
   "metadata": {},
   "outputs": [],
   "source": [
    "import re\n",
    "from langchain_openai import ChatOpenAI\n",
    "from langchain_core.prompts import ChatPromptTemplate\n",
    "from langchain_core.messages import HumanMessage, SystemMessage\n",
    "from langchain_core.output_parsers import BaseOutputParser"
   ]
  },
  {
   "cell_type": "code",
   "execution_count": null,
   "id": "1ab90bf2",
   "metadata": {},
   "outputs": [],
   "source": [
    "class DeepseekParser(BaseOutputParser):\n",
    "    def parse(self, text):\n",
    "        match =  re.search(r\"```sql(.*?)```\", text, flags=re.DOTALL)\n",
    "        if match:\n",
    "            return re.sub(r\"\\s+\", ' ', match.group(1), flags=re.DOTALL).strip()\n",
    "        else:\n",
    "            raise ValueError(\"无法解析输出，请保证输出中包含 ```sql和```\")"
   ]
  },
  {
   "cell_type": "code",
   "execution_count": null,
   "id": "be23d3ca-4bba-4ace-8a9e-2165ff7e6d40",
   "metadata": {},
   "outputs": [],
   "source": [
    "QUESTION_FILE = \"questions.json\"\n",
    "class args:\n",
    "    model = \"phi4\"\n",
    "    question = \"/home/koushurui/Documents/Code/text2sql/DAIL-SQL/dataset/process/BIRD/TEST/SQL_9-SHOT_EUCDISQUESTIONMASK_QA-EXAMPLE_CTX-200_ANS-4096\"\n",
    "    start_index = 0\n",
    "    end_index = 4\n",
    "    batch_size =  1"
   ]
  },
  {
   "cell_type": "code",
   "execution_count": null,
   "id": "cba29750",
   "metadata": {},
   "outputs": [],
   "source": [
    "os.environ[\"OPENAI_BASE_URL\"] = \"http://localhost:11434/v1\"\n",
    "os.environ[\"OPENAI_API_KEY\"] = \"ollama\""
   ]
  },
  {
   "cell_type": "code",
   "execution_count": null,
   "id": "4322d53b",
   "metadata": {},
   "outputs": [],
   "source": [
    "output_parser = DeepseekParser()\n",
    "llm = ChatOpenAI(model=\"phi4\", temperature=0)\n",
    "prompt = ChatPromptTemplate.from_messages([\n",
    "    (\"system\", \n",
    "     \"\"\"\n",
    "     你是一个SQL语言大师，请你根据下面的输入，生成正确、可运行的SQL语句\n",
    "     用\n",
    "     ```sql\n",
    "     code\n",
    "     ```\n",
    "     包裹生成的语句\n",
    "     \"\"\"), \n",
    "    (\"human\", \"{input}\")])"
   ]
  },
  {
   "cell_type": "code",
   "execution_count": null,
   "id": "d3c0531e",
   "metadata": {},
   "outputs": [],
   "source": [
    "chain = prompt | llm | output_parser"
   ]
  },
  {
   "cell_type": "code",
   "execution_count": null,
   "id": "964eed29-14db-4839-bfd2-f3d49ff19bb7",
   "metadata": {},
   "outputs": [],
   "source": [
    "questions_json = json.load(open(os.path.join(args.question, QUESTION_FILE), \"r\"))\n",
    "questions = [_[\"prompt\"] for _ in questions_json[\"questions\"]]\n",
    "db_ids = [_[\"db_id\"] for _ in questions_json[\"questions\"]]\n",
    "\n",
    "out_file = f\"{args.question}/RESULTS_MODEL-{args.model}.txt\""
   ]
  },
  {
   "cell_type": "code",
   "execution_count": null,
   "id": "cf0aebff-5081-4231-baf6-6dac14e1dc25",
   "metadata": {},
   "outputs": [],
   "source": [
    "# output = chain.invoke(questions_json[\"questions\"][0][\"prompt\"])\n",
    "# with open(out_file, \"w\") as f:\n",
    "#     for question in questions_json[\"questions\"][1]:\n",
    "#         f.write(chain.invoke(question[\"prompt\"])+\"\\n\")"
   ]
  },
  {
   "cell_type": "code",
   "execution_count": null,
   "id": "f561eafb",
   "metadata": {},
   "outputs": [],
   "source": [
    "re.sub(r\"\\s+\", ' ', \"SELECT `Free Meal Count (Ages 5-17)` / `Enrollment (Ages 5-17)` AS Eligible_Free_Rate, School FROM frpm JOIN \\n    schools USING (CDSCode)\\nWHERE \\n    `School Type` = 'Continuation'\\nORDER BY \\n    Eligible_Free_Rate ASC\\nLIMIT 3;\", flags=re.DOTALL)"
   ]
  },
  {
   "cell_type": "code",
   "execution_count": 24,
   "id": "267a8487",
   "metadata": {},
   "outputs": [
    {
     "name": "stdout",
     "output_type": "stream",
     "text": [
      "/* Given the following database schema: */\n",
      "CREATE TABLE customers\n",
      "(\n",
      "    CustomerID INTEGER UNIQUE     not null\n",
      "        primary key,\n",
      "    Segment    TEXT null,\n",
      "    Currency   TEXT null\n",
      ")\n",
      "CREATE TABLE gasstations\n",
      "(\n",
      "    GasStationID INTEGER    UNIQUE   not null\n",
      "        primary key,\n",
      "    ChainID      INTEGER          null,\n",
      "    Country      TEXT null,\n",
      "    Segment      TEXT null\n",
      ")\n",
      "CREATE TABLE products\n",
      "(\n",
      "    ProductID   INTEGER   UNIQUE      not null\n",
      "        primary key,\n",
      "    Description TEXT null\n",
      ")\n",
      "CREATE TABLE \"transactions_1k\"\n",
      "(\n",
      "    TransactionID INTEGER\n",
      "        primary key autoincrement,\n",
      "    Date          DATE,\n",
      "    Time          TEXT,\n",
      "    CustomerID    INTEGER,\n",
      "    CardID        INTEGER,\n",
      "    GasStationID  INTEGER,\n",
      "    ProductID     INTEGER,\n",
      "    Amount        INTEGER,\n",
      "    Price         REAL\n",
      ")\n",
      "CREATE TABLE sqlite_sequence(name,seq)\n",
      "CREATE TABLE \"yearmonth\"\n",
      "(\n",
      "    CustomerID  INTEGER not null\n",
      "        references customers\n",
      "            on update cascade on delete cascade\n",
      "        references customers,\n",
      "    Date        TEXT    not null,\n",
      "    Consumption REAL,\n",
      "    primary key (Date, CustomerID)\n",
      ")\n",
      "\n",
      "/* Answer the following:\n",
      "What is the ratio of customers who pay in EUR against customers who pay in CZK?\n",
      "ratio of customers who pay in EUR against customers who pay in CZK = count(Currency = 'EUR') / count(Currency = 'CZK').\\*\n",
      "SELECT \n"
     ]
    }
   ],
   "source": [
    "print(\"/* Given the following database schema: */\\nCREATE TABLE customers\\n(\\n    CustomerID INTEGER UNIQUE     not null\\n        primary key,\\n    Segment    TEXT null,\\n    Currency   TEXT null\\n)\\nCREATE TABLE gasstations\\n(\\n    GasStationID INTEGER    UNIQUE   not null\\n        primary key,\\n    ChainID      INTEGER          null,\\n    Country      TEXT null,\\n    Segment      TEXT null\\n)\\nCREATE TABLE products\\n(\\n    ProductID   INTEGER   UNIQUE      not null\\n        primary key,\\n    Description TEXT null\\n)\\nCREATE TABLE \\\"transactions_1k\\\"\\n(\\n    TransactionID INTEGER\\n        primary key autoincrement,\\n    Date          DATE,\\n    Time          TEXT,\\n    CustomerID    INTEGER,\\n    CardID        INTEGER,\\n    GasStationID  INTEGER,\\n    ProductID     INTEGER,\\n    Amount        INTEGER,\\n    Price         REAL\\n)\\nCREATE TABLE sqlite_sequence(name,seq)\\nCREATE TABLE \\\"yearmonth\\\"\\n(\\n    CustomerID  INTEGER not null\\n        references customers\\n            on update cascade on delete cascade\\n        references customers,\\n    Date        TEXT    not null,\\n    Consumption REAL,\\n    primary key (Date, CustomerID)\\n)\\n\\n/* Answer the following:\\nWhat is the ratio of customers who pay in EUR against customers who pay in CZK?\\nratio of customers who pay in EUR against customers who pay in CZK = count(Currency = 'EUR') / count(Currency = 'CZK').\\\\*\\nSELECT \")"
   ]
  },
  {
   "cell_type": "code",
   "execution_count": null,
   "id": "bac1d4c9",
   "metadata": {},
   "outputs": [],
   "source": []
  }
 ],
 "metadata": {
  "kernelspec": {
   "display_name": "Python 3",
   "language": "python",
   "name": "python3"
  },
  "language_info": {
   "codemirror_mode": {
    "name": "ipython",
    "version": 3
   },
   "file_extension": ".py",
   "mimetype": "text/x-python",
   "name": "python",
   "nbconvert_exporter": "python",
   "pygments_lexer": "ipython3",
   "version": "3.8.20"
  }
 },
 "nbformat": 4,
 "nbformat_minor": 5
}
