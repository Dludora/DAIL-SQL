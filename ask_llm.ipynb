{
 "cells": [
  {
   "cell_type": "code",
   "execution_count": 1,
   "id": "2e944a4b-c8f1-4317-8662-d7c488ead7be",
   "metadata": {},
   "outputs": [],
   "source": [
    "%load_ext autoreload\n",
    "%autoreload 1\n",
    "%aimport utils.utils\n",
    "    \n",
    "import argparse\n",
    "import os\n",
    "import json\n",
    "\n",
    "import torch\n",
    "import openai\n",
    "from tqdm import tqdm\n",
    "\n",
    "from llm.chatgpt import init_chatgpt, ask_llm\n",
    "from utils.enums import LLM\n",
    "from torch.utils.data import DataLoader\n",
    "from transformers import AutoModelForCausalLM, AutoTokenizer\n",
    "\n",
    "from utils.post_process import process_duplication, get_sqls\n",
    "from utils.utils import get_template, get_answer"
   ]
  },
  {
   "cell_type": "code",
   "execution_count": 2,
   "id": "be23d3ca-4bba-4ace-8a9e-2165ff7e6d40",
   "metadata": {},
   "outputs": [],
   "source": [
    "QUESTION_FILE = \"questions.json\"\n",
    "class args:\n",
    "    model = \"granite-8b-instruct\"\n",
    "    question = \"./dataset/process/SPIDER-TEST_SQL_9-SHOT_EUCDISQUESTIONMASK_QA-EXAMPLE_CTX-200_ANS-4096_test/\"\n",
    "    start_index = 0\n",
    "    end_index = 4\n",
    "    batch_size =  4"
   ]
  },
  {
   "cell_type": "code",
   "execution_count": 3,
   "id": "4f8ffab7-40bf-4cf0-a9ba-3a2dc65cd4d2",
   "metadata": {},
   "outputs": [
    {
     "data": {
      "text/plain": [
       "'./dataset/process/SPIDER-TEST_SQL_9-SHOT_EUCDISQUESTIONMASK_QA-EXAMPLE_CTX-200_ANS-4096/'"
      ]
     },
     "execution_count": 3,
     "metadata": {},
     "output_type": "execute_result"
    }
   ],
   "source": [
    "args.question"
   ]
  },
  {
   "cell_type": "code",
   "execution_count": 4,
   "id": "964eed29-14db-4839-bfd2-f3d49ff19bb7",
   "metadata": {},
   "outputs": [],
   "source": [
    "questions_json = json.load(open(os.path.join(args.question, QUESTION_FILE), \"r\"))\n",
    "questions = [_[\"prompt\"] for _ in questions_json[\"questions\"]]\n",
    "db_ids = [_[\"db_id\"] for _ in questions_json[\"questions\"]]\n",
    "\n",
    "question_loader = DataLoader(questions, batch_size=args.batch_size, shuffle=False, drop_last=False)\n",
    "out_file = f\"{args.question}/RESULTS_MODEL-{args.model}.txt\""
   ]
  },
  {
   "cell_type": "code",
   "execution_count": 5,
   "id": "049c2bde-4899-410b-a649-e6d3df87b387",
   "metadata": {},
   "outputs": [
    {
     "data": {
      "application/vnd.jupyter.widget-view+json": {
       "model_id": "6e94f49d9e8747e99ad073aa197e1f22",
       "version_major": 2,
       "version_minor": 0
      },
      "text/plain": [
       "Loading checkpoint shards:   0%|          | 0/4 [00:00<?, ?it/s]"
      ]
     },
     "metadata": {},
     "output_type": "display_data"
    },
    {
     "data": {
      "text/plain": [
       "LlamaForCausalLM(\n",
       "  (model): LlamaModel(\n",
       "    (embed_tokens): Embedding(49152, 4096, padding_idx=0)\n",
       "    (layers): ModuleList(\n",
       "      (0-35): 36 x LlamaDecoderLayer(\n",
       "        (self_attn): LlamaSdpaAttention(\n",
       "          (q_proj): Linear(in_features=4096, out_features=4096, bias=True)\n",
       "          (k_proj): Linear(in_features=4096, out_features=1024, bias=True)\n",
       "          (v_proj): Linear(in_features=4096, out_features=1024, bias=True)\n",
       "          (o_proj): Linear(in_features=4096, out_features=4096, bias=True)\n",
       "          (rotary_emb): LlamaRotaryEmbedding()\n",
       "        )\n",
       "        (mlp): LlamaMLP(\n",
       "          (gate_proj): Linear(in_features=4096, out_features=14336, bias=True)\n",
       "          (up_proj): Linear(in_features=4096, out_features=14336, bias=True)\n",
       "          (down_proj): Linear(in_features=14336, out_features=4096, bias=True)\n",
       "          (act_fn): SiLU()\n",
       "        )\n",
       "        (input_layernorm): LlamaRMSNorm()\n",
       "        (post_attention_layernorm): LlamaRMSNorm()\n",
       "      )\n",
       "    )\n",
       "    (norm): LlamaRMSNorm()\n",
       "  )\n",
       "  (lm_head): Linear(in_features=4096, out_features=49152, bias=False)\n",
       ")"
      ]
     },
     "execution_count": 5,
     "metadata": {},
     "output_type": "execute_result"
    }
   ],
   "source": [
    "os.environ[\"CUDA_VISIBLE_DEVICES\"] = \"0,1,2,3\"\n",
    "model_path = LLM.OPEN_SOURCE_2_PATH[args.model]\n",
    "tokenizer = AutoTokenizer.from_pretrained(model_path)\n",
    "device = torch.device(\"cuda\" if torch.cuda.is_available() else \"cpu\")\n",
    "model = AutoModelForCausalLM.from_pretrained(model_path, device_map=\"auto\")\n",
    "model.eval()"
   ]
  },
  {
   "cell_type": "code",
   "execution_count": 6,
   "id": "4d637849-fedd-42b3-9beb-62321dfd4432",
   "metadata": {},
   "outputs": [],
   "source": [
    "questions = ['/* Some SQL examples are provided based on similar problems: */\\n/* Answer the following: How many aircrafts do we have? */\\nSELECT count(*) FROM Aircraft\\n\\n/* Answer the following: How many employees do we have? */\\nSELECT count(*) FROM Employee\\n\\n/* Answer the following: How many flights do we have? */\\nSELECT count(*) FROM Flight\\n\\n/* Answer the following: How many accounts do we have? */\\nSELECT count(*) FROM Accounts\\n\\n/* Answer the following: How many customers do we have? */\\nSELECT count(*) FROM Customers\\n\\n/* Answer the following: How many tracks do we have? */\\nSELECT count(*) FROM track\\n\\n/* Answer the following: How many transactions do we have? */\\nSELECT count(*) FROM Financial_transactions\\n\\n/* Answer the following: How many invoices do we have? */\\nSELECT count(*) FROM Invoices\\n\\n/* Answer the following: How many artists do we have? */\\nSELECT count(*) FROM artist\\n\\n/* Given the following database schema: */\\nCREATE TABLE \"stadium\" (\\n\"Stadium_ID\" int,\\n\"Location\" text,\\n\"Name\" text,\\n\"Capacity\" int,\\n\"Highest\" int,\\n\"Lowest\" int,\\n\"Average\" int,\\nPRIMARY KEY (\"Stadium_ID\")\\n)\\n\\nCREATE TABLE \"singer\" (\\n\"Singer_ID\" int,\\n\"Name\" text,\\n\"Country\" text,\\n\"Song_Name\" text,\\n\"Song_release_year\" text,\\n\"Age\" int,\\n\"Is_male\" bool,\\nPRIMARY KEY (\"Singer_ID\")\\n)\\n\\nCREATE TABLE \"concert\" (\\n\"concert_ID\" int,\\n\"concert_Name\" text,\\n\"Theme\" text,\\n\"Stadium_ID\" text,\\n\"Year\" text,\\nPRIMARY KEY (\"concert_ID\"),\\nFOREIGN KEY (\"Stadium_ID\") REFERENCES \"stadium\"(\"Stadium_ID\")\\n)\\n\\nCREATE TABLE \"singer_in_concert\" (\\n\"concert_ID\" int,\\n\"Singer_ID\" text,\\nPRIMARY KEY (\"concert_ID\",\"Singer_ID\"),\\nFOREIGN KEY (\"concert_ID\") REFERENCES \"concert\"(\"concert_ID\"),\\nFOREIGN KEY (\"Singer_ID\") REFERENCES \"singer\"(\"Singer_ID\")\\n)\\n\\n/* Answer the following: How many singers do we have? */\\nSELECT ', \n",
    "    '/* Some SQL examples are provided based on similar problems: */\\n/* Answer the following: What is the total number of students? */\\nSELECT count(*) FROM Student\\n\\n/* Answer the following: What is the total number of companies? */\\nSELECT count(*) FROM company\\n\\n/* Answer the following: What is the total number of campuses? */\\nSELECT count(*) FROM campuses\\n\\n/* Answer the following: What is the total number of games played? */\\nSELECT sum(gamesplayed) FROM Sportsinfo\\n\\n/* Answer the following: What is the total count of enzymes? */\\nSELECT count(*) FROM enzyme\\n\\n/* Answer the following: What is the number of employees? */\\nSELECT count(*) FROM Employee\\n\\n/* Answer the following: What is the number of flights? */\\nSELECT count(*) FROM Flight\\n\\n/* Answer the following: What is the number of technicians? */\\nSELECT count(*) FROM technician\\n\\n/* Answer the following: What is the number of ships? */\\nSELECT count(*) FROM ship\\n\\n/* Given the following database schema: */\\nCREATE TABLE \"stadium\" (\\n\"Stadium_ID\" int,\\n\"Location\" text,\\n\"Name\" text,\\n\"Capacity\" int,\\n\"Highest\" int,\\n\"Lowest\" int,\\n\"Average\" int,\\nPRIMARY KEY (\"Stadium_ID\")\\n)\\n\\nCREATE TABLE \"singer\" (\\n\"Singer_ID\" int,\\n\"Name\" text,\\n\"Country\" text,\\n\"Song_Name\" text,\\n\"Song_release_year\" text,\\n\"Age\" int,\\n\"Is_male\" bool,\\nPRIMARY KEY (\"Singer_ID\")\\n)\\n\\nCREATE TABLE \"concert\" (\\n\"concert_ID\" int,\\n\"concert_Name\" text,\\n\"Theme\" text,\\n\"Stadium_ID\" text,\\n\"Year\" text,\\nPRIMARY KEY (\"concert_ID\"),\\nFOREIGN KEY (\"Stadium_ID\") REFERENCES \"stadium\"(\"Stadium_ID\")\\n)\\n\\nCREATE TABLE \"singer_in_concert\" (\\n\"concert_ID\" int,\\n\"Singer_ID\" text,\\nPRIMARY KEY (\"concert_ID\",\"Singer_ID\"),\\nFOREIGN KEY (\"concert_ID\") REFERENCES \"concert\"(\"concert_ID\"),\\nFOREIGN KEY (\"Singer_ID\") REFERENCES \"singer\"(\"Singer_ID\")\\n)\\n\\n/* Answer the following: What is the total number of singers? */\\nSELECT ', \n",
    "    '/* Some SQL examples are provided based on similar problems: */\\n/* Answer the following: Show the working years of managers in descending order of their level. */\\nSELECT Working_year_starts FROM manager ORDER BY LEVEL DESC\\n\\n/* Answer the following: Find the name of the students and their department names sorted by their total credits in ascending order. */\\nSELECT name ,  dept_name FROM student ORDER BY tot_cred\\n\\n/* Answer the following: Show the names of members in ascending order of their rank in rounds. */\\nSELECT T1.Name FROM member AS T1 JOIN round AS T2 ON T1.Member_ID  =  T2.Member_ID ORDER BY Rank_in_Round ASC\\n\\n/* Answer the following: Find the name, headquarter and revenue of all manufacturers sorted by their revenue in the descending order. */\\nSELECT name ,  headquarter ,  revenue FROM manufacturers ORDER BY revenue DESC\\n\\n/* Answer the following: For each party, find its location and the name of its host. Sort the result in ascending order of the age of the host. */\\nSELECT T3.Location ,  T2.Name FROM party_host AS T1 JOIN HOST AS T2 ON T1.Host_ID  =  T2.Host_ID JOIN party AS T3 ON T1.Party_ID  =  T3.Party_ID ORDER BY T2.Age\\n\\n/* Answer the following: List all the cities in a decreasing order of each city\\'s stations\\' highest latitude. */\\nSELECT city FROM station GROUP BY city ORDER BY max(lat) DESC\\n\\n/* Answer the following: Show names of actors in descending order of the year their musical is awarded. */\\nSELECT T1.Name FROM actor AS T1 JOIN musical AS T2 ON T1.Musical_ID  =  T2.Musical_ID ORDER BY T2.Year DESC\\n\\n/* Answer the following: Show the name and service for all trains in order by time. */\\nSELECT name ,  service FROM train ORDER BY TIME\\n\\n/* Answer the following: Show all movie titles, years, and directors, ordered by budget. */\\nSELECT title ,  YEAR ,  director FROM movie ORDER BY budget_million\\n\\n/* Given the following database schema: */\\nCREATE TABLE \"stadium\" (\\n\"Stadium_ID\" int,\\n\"Location\" text,\\n\"Name\" text,\\n\"Capacity\" int,\\n\"Highest\" int,\\n\"Lowest\" int,\\n\"Average\" int,\\nPRIMARY KEY (\"Stadium_ID\")\\n)\\n\\nCREATE TABLE \"singer\" (\\n\"Singer_ID\" int,\\n\"Name\" text,\\n\"Country\" text,\\n\"Song_Name\" text,\\n\"Song_release_year\" text,\\n\"Age\" int,\\n\"Is_male\" bool,\\nPRIMARY KEY (\"Singer_ID\")\\n)\\n\\nCREATE TABLE \"concert\" (\\n\"concert_ID\" int,\\n\"concert_Name\" text,\\n\"Theme\" text,\\n\"Stadium_ID\" text,\\n\"Year\" text,\\nPRIMARY KEY (\"concert_ID\"),\\nFOREIGN KEY (\"Stadium_ID\") REFERENCES \"stadium\"(\"Stadium_ID\")\\n)\\n\\nCREATE TABLE \"singer_in_concert\" (\\n\"concert_ID\" int,\\n\"Singer_ID\" text,\\nPRIMARY KEY (\"concert_ID\",\"Singer_ID\"),\\nFOREIGN KEY (\"concert_ID\") REFERENCES \"concert\"(\"concert_ID\"),\\nFOREIGN KEY (\"Singer_ID\") REFERENCES \"singer\"(\"Singer_ID\")\\n)\\n\\n/* Answer the following: Show name, country, age for all singers ordered by age from the oldest to the youngest. */\\nSELECT ', \n",
    "    '/* Some SQL examples are provided based on similar problems: */\\n/* Answer the following: What are the years, titles, and publishers for all books, ordered by year descending? */\\nSELECT YEAR ,  book_title ,  publisher FROM book_club ORDER BY YEAR DESC\\n\\n/* Answer the following: What are the card numbers, names, and hometowns of every member ordered by descending level? */\\nSELECT card_number ,  name ,  hometown FROM member ORDER BY LEVEL DESC\\n\\n/* Answer the following: What are the total points for all gymnasts, ordered by total points descending? */\\nSELECT Total_Points FROM gymnast ORDER BY Total_Points DESC\\n\\n/* Answer the following: What are the themes and years for exhibitions, sorted by ticket price descending? */\\nSELECT theme ,  YEAR FROM exhibition ORDER BY ticket_price DESC\\n\\n/* Answer the following: What are the names of enzymes in descending order? */\\nSELECT name FROM enzyme ORDER BY name DESC\\n\\n/* Answer the following: What are the lifespans of representatives in descending order of vote percent? */\\nSELECT T2.Lifespan FROM election AS T1 JOIN representative AS T2 ON T1.Representative_ID  =  T2.Representative_ID ORDER BY Vote_Percent DESC\\n\\n/* Answer the following: What are the weights of entrepreneurs in descending order of money requested? */\\nSELECT T2.Weight FROM entrepreneur AS T1 JOIN people AS T2 ON T1.People_ID  =  T2.People_ID ORDER BY T1.Money_Requested DESC\\n\\n/* Answer the following: What are the characters of actors in descending order of age? */\\nSELECT Character FROM actor ORDER BY age DESC\\n\\n/* Answer the following: What are the names of representatives in descending order of votes? */\\nSELECT T2.Name FROM election AS T1 JOIN representative AS T2 ON T1.Representative_ID  =  T2.Representative_ID ORDER BY votes DESC\\n\\n/* Given the following database schema: */\\nCREATE TABLE \"stadium\" (\\n\"Stadium_ID\" int,\\n\"Location\" text,\\n\"Name\" text,\\n\"Capacity\" int,\\n\"Highest\" int,\\n\"Lowest\" int,\\n\"Average\" int,\\nPRIMARY KEY (\"Stadium_ID\")\\n)\\n\\nCREATE TABLE \"singer\" (\\n\"Singer_ID\" int,\\n\"Name\" text,\\n\"Country\" text,\\n\"Song_Name\" text,\\n\"Song_release_year\" text,\\n\"Age\" int,\\n\"Is_male\" bool,\\nPRIMARY KEY (\"Singer_ID\")\\n)\\n\\nCREATE TABLE \"concert\" (\\n\"concert_ID\" int,\\n\"concert_Name\" text,\\n\"Theme\" text,\\n\"Stadium_ID\" text,\\n\"Year\" text,\\nPRIMARY KEY (\"concert_ID\"),\\nFOREIGN KEY (\"Stadium_ID\") REFERENCES \"stadium\"(\"Stadium_ID\")\\n)\\n\\nCREATE TABLE \"singer_in_concert\" (\\n\"concert_ID\" int,\\n\"Singer_ID\" text,\\nPRIMARY KEY (\"concert_ID\",\"Singer_ID\"),\\nFOREIGN KEY (\"concert_ID\") REFERENCES \"concert\"(\"concert_ID\"),\\nFOREIGN KEY (\"Singer_ID\") REFERENCES \"singer\"(\"Singer_ID\")\\n)\\n\\n/* Answer the following: What are the names, countries, and ages for every singer in descending order of age? */\\nSELECT ']"
   ]
  },
  {
   "cell_type": "code",
   "execution_count": 6,
   "id": "2b77d8ef-ff00-4e83-99fc-293f68e7b609",
   "metadata": {},
   "outputs": [
    {
     "name": "stderr",
     "output_type": "stream",
     "text": [
      " 45%|███████████████████████████████████████████████████████████▊                                                                          | 29/65 [1:32:54<1:55:19, 192.22s/it]\n"
     ]
    },
    {
     "ename": "KeyboardInterrupt",
     "evalue": "",
     "output_type": "error",
     "traceback": [
      "\u001b[0;31m---------------------------------------------------------------------------\u001b[0m",
      "\u001b[0;31mKeyboardInterrupt\u001b[0m                         Traceback (most recent call last)",
      "Cell \u001b[0;32mIn[6], line 16\u001b[0m\n\u001b[1;32m     14\u001b[0m chat \u001b[38;5;241m=\u001b[39m tokenizer\u001b[38;5;241m.\u001b[39mapply_chat_template(chat, tokenize\u001b[38;5;241m=\u001b[39m\u001b[38;5;28;01mTrue\u001b[39;00m, add_generation_prompt\u001b[38;5;241m=\u001b[39m\u001b[38;5;28;01mTrue\u001b[39;00m, return_tensors\u001b[38;5;241m=\u001b[39m\u001b[38;5;124m\"\u001b[39m\u001b[38;5;124mpt\u001b[39m\u001b[38;5;124m\"\u001b[39m, padding\u001b[38;5;241m=\u001b[39m\u001b[38;5;28;01mTrue\u001b[39;00m, truncation\u001b[38;5;241m=\u001b[39m\u001b[38;5;28;01mTrue\u001b[39;00m)\n\u001b[1;32m     15\u001b[0m chat \u001b[38;5;241m=\u001b[39m chat\u001b[38;5;241m.\u001b[39mcuda()\n\u001b[0;32m---> 16\u001b[0m outputs \u001b[38;5;241m=\u001b[39m \u001b[43mmodel\u001b[49m\u001b[38;5;241;43m.\u001b[39;49m\u001b[43mgenerate\u001b[49m\u001b[43m(\u001b[49m\u001b[43mchat\u001b[49m\u001b[43m,\u001b[49m\u001b[43m \u001b[49m\u001b[43mmax_new_tokens\u001b[49m\u001b[38;5;241;43m=\u001b[39;49m\u001b[38;5;241;43m2048\u001b[39;49m\u001b[43m)\u001b[49m\n\u001b[1;32m     18\u001b[0m outputs \u001b[38;5;241m=\u001b[39m tokenizer\u001b[38;5;241m.\u001b[39mbatch_decode(outputs, skip_special_tokens\u001b[38;5;241m=\u001b[39m\u001b[38;5;28;01mTrue\u001b[39;00m)\n\u001b[1;32m     19\u001b[0m \u001b[38;5;28;01mfor\u001b[39;00m i, output \u001b[38;5;129;01min\u001b[39;00m \u001b[38;5;28menumerate\u001b[39m(outputs):\n",
      "File \u001b[0;32m~/.conda/envs/ksr/lib/python3.12/site-packages/torch/utils/_contextlib.py:115\u001b[0m, in \u001b[0;36mcontext_decorator.<locals>.decorate_context\u001b[0;34m(*args, **kwargs)\u001b[0m\n\u001b[1;32m    112\u001b[0m \u001b[38;5;129m@functools\u001b[39m\u001b[38;5;241m.\u001b[39mwraps(func)\n\u001b[1;32m    113\u001b[0m \u001b[38;5;28;01mdef\u001b[39;00m \u001b[38;5;21mdecorate_context\u001b[39m(\u001b[38;5;241m*\u001b[39margs, \u001b[38;5;241m*\u001b[39m\u001b[38;5;241m*\u001b[39mkwargs):\n\u001b[1;32m    114\u001b[0m     \u001b[38;5;28;01mwith\u001b[39;00m ctx_factory():\n\u001b[0;32m--> 115\u001b[0m         \u001b[38;5;28;01mreturn\u001b[39;00m \u001b[43mfunc\u001b[49m\u001b[43m(\u001b[49m\u001b[38;5;241;43m*\u001b[39;49m\u001b[43margs\u001b[49m\u001b[43m,\u001b[49m\u001b[43m \u001b[49m\u001b[38;5;241;43m*\u001b[39;49m\u001b[38;5;241;43m*\u001b[39;49m\u001b[43mkwargs\u001b[49m\u001b[43m)\u001b[49m\n",
      "File \u001b[0;32m~/.conda/envs/ksr/lib/python3.12/site-packages/transformers/generation/utils.py:1736\u001b[0m, in \u001b[0;36mGenerationMixin.generate\u001b[0;34m(self, inputs, generation_config, logits_processor, stopping_criteria, prefix_allowed_tokens_fn, synced_gpus, assistant_model, streamer, negative_prompt_ids, negative_prompt_attention_mask, **kwargs)\u001b[0m\n\u001b[1;32m   1728\u001b[0m     input_ids, model_kwargs \u001b[38;5;241m=\u001b[39m \u001b[38;5;28mself\u001b[39m\u001b[38;5;241m.\u001b[39m_expand_inputs_for_generation(\n\u001b[1;32m   1729\u001b[0m         input_ids\u001b[38;5;241m=\u001b[39minput_ids,\n\u001b[1;32m   1730\u001b[0m         expand_size\u001b[38;5;241m=\u001b[39mgeneration_config\u001b[38;5;241m.\u001b[39mnum_return_sequences,\n\u001b[1;32m   1731\u001b[0m         is_encoder_decoder\u001b[38;5;241m=\u001b[39m\u001b[38;5;28mself\u001b[39m\u001b[38;5;241m.\u001b[39mconfig\u001b[38;5;241m.\u001b[39mis_encoder_decoder,\n\u001b[1;32m   1732\u001b[0m         \u001b[38;5;241m*\u001b[39m\u001b[38;5;241m*\u001b[39mmodel_kwargs,\n\u001b[1;32m   1733\u001b[0m     )\n\u001b[1;32m   1735\u001b[0m     \u001b[38;5;66;03m# 13. run sample (it degenerates to greedy search when `generation_config.do_sample=False`)\u001b[39;00m\n\u001b[0;32m-> 1736\u001b[0m     result \u001b[38;5;241m=\u001b[39m \u001b[38;5;28;43mself\u001b[39;49m\u001b[38;5;241;43m.\u001b[39;49m\u001b[43m_sample\u001b[49m\u001b[43m(\u001b[49m\n\u001b[1;32m   1737\u001b[0m \u001b[43m        \u001b[49m\u001b[43minput_ids\u001b[49m\u001b[43m,\u001b[49m\n\u001b[1;32m   1738\u001b[0m \u001b[43m        \u001b[49m\u001b[43mlogits_processor\u001b[49m\u001b[38;5;241;43m=\u001b[39;49m\u001b[43mprepared_logits_processor\u001b[49m\u001b[43m,\u001b[49m\n\u001b[1;32m   1739\u001b[0m \u001b[43m        \u001b[49m\u001b[43mlogits_warper\u001b[49m\u001b[38;5;241;43m=\u001b[39;49m\u001b[43mprepared_logits_warper\u001b[49m\u001b[43m,\u001b[49m\n\u001b[1;32m   1740\u001b[0m \u001b[43m        \u001b[49m\u001b[43mstopping_criteria\u001b[49m\u001b[38;5;241;43m=\u001b[39;49m\u001b[43mprepared_stopping_criteria\u001b[49m\u001b[43m,\u001b[49m\n\u001b[1;32m   1741\u001b[0m \u001b[43m        \u001b[49m\u001b[43mgeneration_config\u001b[49m\u001b[38;5;241;43m=\u001b[39;49m\u001b[43mgeneration_config\u001b[49m\u001b[43m,\u001b[49m\n\u001b[1;32m   1742\u001b[0m \u001b[43m        \u001b[49m\u001b[43msynced_gpus\u001b[49m\u001b[38;5;241;43m=\u001b[39;49m\u001b[43msynced_gpus\u001b[49m\u001b[43m,\u001b[49m\n\u001b[1;32m   1743\u001b[0m \u001b[43m        \u001b[49m\u001b[43mstreamer\u001b[49m\u001b[38;5;241;43m=\u001b[39;49m\u001b[43mstreamer\u001b[49m\u001b[43m,\u001b[49m\n\u001b[1;32m   1744\u001b[0m \u001b[43m        \u001b[49m\u001b[38;5;241;43m*\u001b[39;49m\u001b[38;5;241;43m*\u001b[39;49m\u001b[43mmodel_kwargs\u001b[49m\u001b[43m,\u001b[49m\n\u001b[1;32m   1745\u001b[0m \u001b[43m    \u001b[49m\u001b[43m)\u001b[49m\n\u001b[1;32m   1747\u001b[0m \u001b[38;5;28;01melif\u001b[39;00m generation_mode \u001b[38;5;129;01min\u001b[39;00m (GenerationMode\u001b[38;5;241m.\u001b[39mBEAM_SAMPLE, GenerationMode\u001b[38;5;241m.\u001b[39mBEAM_SEARCH):\n\u001b[1;32m   1748\u001b[0m     \u001b[38;5;66;03m# 11. prepare logits warper\u001b[39;00m\n\u001b[1;32m   1749\u001b[0m     prepared_logits_warper \u001b[38;5;241m=\u001b[39m (\n\u001b[1;32m   1750\u001b[0m         \u001b[38;5;28mself\u001b[39m\u001b[38;5;241m.\u001b[39m_get_logits_warper(generation_config) \u001b[38;5;28;01mif\u001b[39;00m generation_config\u001b[38;5;241m.\u001b[39mdo_sample \u001b[38;5;28;01melse\u001b[39;00m \u001b[38;5;28;01mNone\u001b[39;00m\n\u001b[1;32m   1751\u001b[0m     )\n",
      "File \u001b[0;32m~/.conda/envs/ksr/lib/python3.12/site-packages/transformers/generation/utils.py:2370\u001b[0m, in \u001b[0;36mGenerationMixin._sample\u001b[0;34m(self, input_ids, logits_processor, stopping_criteria, generation_config, synced_gpus, streamer, logits_warper, **model_kwargs)\u001b[0m\n\u001b[1;32m   2367\u001b[0m unfinished_sequences \u001b[38;5;241m=\u001b[39m torch\u001b[38;5;241m.\u001b[39mones(batch_size, dtype\u001b[38;5;241m=\u001b[39mtorch\u001b[38;5;241m.\u001b[39mlong, device\u001b[38;5;241m=\u001b[39minput_ids\u001b[38;5;241m.\u001b[39mdevice)\n\u001b[1;32m   2368\u001b[0m model_kwargs \u001b[38;5;241m=\u001b[39m \u001b[38;5;28mself\u001b[39m\u001b[38;5;241m.\u001b[39m_get_initial_cache_position(input_ids, model_kwargs)\n\u001b[0;32m-> 2370\u001b[0m \u001b[38;5;28;01mwhile\u001b[39;00m \u001b[38;5;28mself\u001b[39m\u001b[38;5;241m.\u001b[39m_has_unfinished_sequences(this_peer_finished, synced_gpus, device\u001b[38;5;241m=\u001b[39minput_ids\u001b[38;5;241m.\u001b[39mdevice):\n\u001b[1;32m   2371\u001b[0m     \u001b[38;5;66;03m# prepare model inputs\u001b[39;00m\n\u001b[1;32m   2372\u001b[0m     model_inputs \u001b[38;5;241m=\u001b[39m \u001b[38;5;28mself\u001b[39m\u001b[38;5;241m.\u001b[39mprepare_inputs_for_generation(input_ids, \u001b[38;5;241m*\u001b[39m\u001b[38;5;241m*\u001b[39mmodel_kwargs)\n\u001b[1;32m   2374\u001b[0m     \u001b[38;5;66;03m# forward pass to get next token\u001b[39;00m\n",
      "\u001b[0;31mKeyboardInterrupt\u001b[0m: "
     ]
    }
   ],
   "source": [
    "# with open(\"./results/re_text.txt\", \"w\") as f1, open(\"./results/original_text.txt\", \"w\") as f2:\n",
    "#     chat = get_template(questions)\n",
    "#     print(chat)\n",
    "#     chat = tokenizer.apply_chat_template(chat, tokenize=True, add_generation_prompt=True, return_tensors=\"pt\", padding=True, truncation=True)\n",
    "#     chat = chat.cuda()\n",
    "#     inputs = tokenizer.batch_decode(chat, skip_special_tokens=True)\n",
    "#     outputs = model.generate(chat, max_new_tokens=2048)\n",
    "#     outputs = tokenizer.batch_decode(outputs, skip_special_tokens=True)\n",
    "#     for i, output in enumerate(outputs):\n",
    "#         f1.write(output)\n",
    "with open(out_file, \"w\") as f1, open(\"./results/original_text.txt\", \"w\") as f2:\n",
    "    for i, batch in enumerate(tqdm(question_loader)):\n",
    "        chat = get_template(batch)\n",
    "        chat = tokenizer.apply_chat_template(chat, tokenize=True, add_generation_prompt=True, return_tensors=\"pt\", padding=True, truncation=True)\n",
    "        chat = chat.cuda()\n",
    "        outputs = model.generate(chat, max_new_tokens=2048)\n",
    "\n",
    "        outputs = tokenizer.batch_decode(outputs, skip_special_tokens=True)\n",
    "        for i, output in enumerate(outputs):\n",
    "            try:\n",
    "                ans = get_answer(output)\n",
    "                f1.write(ans + '\\n')\n",
    "            except Exception as e:\n",
    "                f1.write('SELECT \\n')\n",
    "            finally:\n",
    "                f2.write(output + '\\n')"
   ]
  },
  {
   "cell_type": "code",
   "execution_count": null,
   "id": "201136d1-b50d-44db-83a3-90e7dd682dcb",
   "metadata": {},
   "outputs": [],
   "source": [
    "\"jello\""
   ]
  },
  {
   "cell_type": "code",
   "execution_count": null,
   "id": "cf0aebff-5081-4231-baf6-6dac14e1dc25",
   "metadata": {},
   "outputs": [],
   "source": []
  }
 ],
 "metadata": {
  "kernelspec": {
   "display_name": "Python 3 (ipykernel)",
   "language": "python",
   "name": "python3"
  },
  "language_info": {
   "codemirror_mode": {
    "name": "ipython",
    "version": 3
   },
   "file_extension": ".py",
   "mimetype": "text/x-python",
   "name": "python",
   "nbconvert_exporter": "python",
   "pygments_lexer": "ipython3",
   "version": "3.11.5"
  }
 },
 "nbformat": 4,
 "nbformat_minor": 5
}
